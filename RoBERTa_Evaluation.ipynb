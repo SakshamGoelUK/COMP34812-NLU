{
  "nbformat": 4,
  "nbformat_minor": 0,
  "metadata": {
    "colab": {
      "provenance": [],
      "machine_shape": "hm",
      "gpuType": "T4"
    },
    "kernelspec": {
      "name": "python3",
      "display_name": "Python 3"
    },
    "language_info": {
      "name": "python"
    },
    "accelerator": "GPU"
  },
  "cells": [
    {
      "cell_type": "markdown",
      "source": [
        "### Import packages"
      ],
      "metadata": {
        "id": "Tv_dtFUGFgyy"
      }
    },
    {
      "cell_type": "code",
      "source": [
        "import pandas as pd\n",
        "import torch\n",
        "from torch.utils.data import DataLoader\n",
        "from transformers import RobertaTokenizer, RobertaForSequenceClassification\n",
        "from sklearn.metrics import accuracy_score, precision_score, recall_score, f1_score, matthews_corrcoef,confusion_matrix, precision_recall_curve, auc\n",
        "import matplotlib.pyplot as plt\n",
        "import seaborn as sns"
      ],
      "metadata": {
        "id": "5sa6ey4rRJrA"
      },
      "execution_count": null,
      "outputs": []
    },
    {
      "cell_type": "markdown",
      "source": [
        "### Load in model and move to the GPU"
      ],
      "metadata": {
        "id": "iRgkIyBTFilJ"
      }
    },
    {
      "cell_type": "code",
      "execution_count": null,
      "metadata": {
        "id": "x7QxJ99LQzaf"
      },
      "outputs": [],
      "source": [
        "model_path = '/content/drive/MyDrive/NLU_Files/final_roberta_optimal_lr'\n",
        "model = RobertaForSequenceClassification.from_pretrained(model_path)\n",
        "tokenizer = RobertaTokenizer.from_pretrained(model_path)\n",
        "device = torch.device(\"cuda\" if torch.cuda.is_available() else \"cpu\")\n",
        "model.to(device)"
      ]
    },
    {
      "cell_type": "markdown",
      "source": [
        "### Define prediction function that accepts claim and evidence, and define dataset class"
      ],
      "metadata": {
        "id": "yLLponT3Fkeq"
      }
    },
    {
      "cell_type": "code",
      "source": [
        "def predict(sentence1, sentence2):\n",
        "    inputs = tokenizer(sentence1, sentence2, return_tensors=\"pt\", truncation=True, padding=True)\n",
        "    inputs = {key: value.to(device) for key, value in inputs.items()}\n",
        "    model.eval()\n",
        "    with torch.no_grad():\n",
        "        outputs = model(**inputs)\n",
        "        prediction = torch.argmax(outputs.logits, dim=-1).item()\n",
        "    return prediction"
      ],
      "metadata": {
        "id": "QDzc4efPRDDS"
      },
      "execution_count": null,
      "outputs": []
    },
    {
      "cell_type": "code",
      "source": [
        "# Dataset class to help us initialise and load datasets\n",
        "class EDDataset(torch.utils.data.Dataset):\n",
        "    def __init__(self, encodings, labels=None):\n",
        "        self.encodings = encodings\n",
        "        self.labels = labels\n",
        "\n",
        "    def __getitem__(self, idx):\n",
        "        item = {key: val[idx].clone().detach() for key, val in self.encodings.items()}\n",
        "        if self.labels is not None:\n",
        "            item['labels'] = self.labels[idx]\n",
        "        return item\n",
        "\n",
        "    def __len__(self):\n",
        "        return len(self.labels) if self.labels is not None else len(self.encodings['input_ids'])"
      ],
      "metadata": {
        "id": "Ky6B-u91EKoK"
      },
      "execution_count": null,
      "outputs": []
    },
    {
      "cell_type": "markdown",
      "source": [
        "### Define dataframes and loaders for validation set"
      ],
      "metadata": {
        "id": "T12e-dwGF1sV"
      }
    },
    {
      "cell_type": "code",
      "source": [
        "# Load the validation dataset\n",
        "val_df = pd.read_csv(\"/content/drive/MyDrive/NLU_Files/dev.csv\")\n",
        "val_encodings = tokenizer(val_df['Claim'].tolist(), val_df['Evidence'].tolist(),\n",
        "                          truncation=True, padding='max_length', max_length=512, return_tensors=\"pt\")\n",
        "val_labels = val_df['label'].tolist() # Replace 'Label' with the actual label column name if different\n",
        "val_dataset = EDDataset(val_encodings, val_labels)\n",
        "val_loader = DataLoader(val_dataset, batch_size=32, shuffle=False)\n"
      ],
      "metadata": {
        "id": "6-1Q5u8FDxsj"
      },
      "execution_count": null,
      "outputs": []
    },
    {
      "cell_type": "code",
      "source": [
        "# Evaluate the model\n",
        "model.eval()\n",
        "predictions, true_labels = [], []\n",
        "with torch.no_grad():\n",
        "    for batch in val_loader:\n",
        "        inputs = {key: val.to(device) for key, val in batch.items() if key != 'labels'}\n",
        "        labels = batch['labels'].to(device)\n",
        "        outputs = model(**inputs)\n",
        "        preds = torch.argmax(outputs.logits, dim=-1)\n",
        "        predictions.extend(preds.cpu().numpy())\n",
        "        true_labels.extend(labels.cpu().numpy())\n"
      ],
      "metadata": {
        "id": "P25UO1D4RFMW"
      },
      "execution_count": null,
      "outputs": []
    },
    {
      "cell_type": "markdown",
      "source": [
        "### Check for class imbalance"
      ],
      "metadata": {
        "id": "ukYKOPr8GV0G"
      }
    },
    {
      "cell_type": "code",
      "source": [
        "true_labels = val_df['label']  # Replace 'Label' with the actual column name for labels in your dataset\n",
        "class_distribution = true_labels.value_counts()\n",
        "print(\"Class distribution in the validation dataset:\", class_distribution)"
      ],
      "metadata": {
        "colab": {
          "base_uri": "https://localhost:8080/"
        },
        "id": "HqWGcj7JGXos",
        "outputId": "3a83eff2-792c-4519-e70b-0eb09ca0377f"
      },
      "execution_count": null,
      "outputs": [
        {
          "output_type": "stream",
          "name": "stdout",
          "text": [
            "Class distribution in the validation dataset: label\n",
            "0    4327\n",
            "1    1599\n",
            "Name: count, dtype: int64\n"
          ]
        }
      ]
    },
    {
      "cell_type": "markdown",
      "source": [
        "#### Severe imbalance observed between 0s and 1s, so PR-AUC Score seems appropriate"
      ],
      "metadata": {
        "id": "_WwsmiQRHmAz"
      }
    },
    {
      "cell_type": "markdown",
      "source": [
        "### PR-AUC Score Calculation"
      ],
      "metadata": {
        "id": "maFSKaFTI10Z"
      }
    },
    {
      "cell_type": "code",
      "source": [
        "# Calculate and plot Precision-Recall curve and AUC\n",
        "precision, recall, _ = precision_recall_curve(true_labels, predictions)\n",
        "pr_auc = auc(recall, precision)\n",
        "\n",
        "plt.plot(recall, precision, label=f'PR AUC: {pr_auc:.2f}')\n",
        "plt.xlabel('Recall')\n",
        "plt.ylabel('Precision')\n",
        "plt.legend()\n",
        "plt.show()\n",
        "\n",
        "print(f'PR AUC: {pr_auc:.4f}')"
      ],
      "metadata": {
        "colab": {
          "base_uri": "https://localhost:8080/",
          "height": 466
        },
        "id": "W2ovJIFtIZXC",
        "outputId": "85f7cdbc-c2dd-43b2-d1fa-914668f8f07f"
      },
      "execution_count": null,
      "outputs": [
        {
          "output_type": "display_data",
          "data": {
            "text/plain": [
              "<Figure size 640x480 with 1 Axes>"
            ],
            "image/png": "[encoded data removed]"
          },
          "metadata": {}
        },
        {
          "output_type": "stream",
          "name": "stdout",
          "text": [
            "PR AUC: 0.8354\n"
          ]
        }
      ]
    },
    {
      "cell_type": "markdown",
      "source": [
        "### Confusion Matrix"
      ],
      "metadata": {
        "id": "j_RHnIo1IzY5"
      }
    },
    {
      "cell_type": "code",
      "source": [
        "conf_matrix = confusion_matrix(true_labels, predictions)\n",
        "sns.heatmap(conf_matrix, annot=True, fmt='g')\n",
        "plt.xlabel('Predicted')\n",
        "plt.ylabel('True')\n",
        "plt.show()"
      ],
      "metadata": {
        "colab": {
          "base_uri": "https://localhost:8080/",
          "height": 449
        },
        "id": "uM_zfZyJIQ0X",
        "outputId": "afc101b8-6bc1-44c5-d595-2293a4b3ee80"
      },
      "execution_count": null,
      "outputs": [
        {
          "output_type": "display_data",
          "data": {
            "text/plain": [
              "<Figure size 640x480 with 2 Axes>"
            ],
            "image/png": "[encoded data removed]"
          },
          "metadata": {}
        }
      ]
    },
    {
      "cell_type": "markdown",
      "source": [
        "### Other calculated metrics"
      ],
      "metadata": {
        "id": "HtP8a1BjF7l8"
      }
    },
    {
      "cell_type": "code",
      "source": [
        "# Calculate metrics\n",
        "accuracy = accuracy_score(true_labels, predictions)\n",
        "precision = precision_score(true_labels, predictions, average='weighted')\n",
        "recall = recall_score(true_labels, predictions, average='weighted')\n",
        "f1 = f1_score(true_labels, predictions, average='weighted')\n",
        "mcc = matthews_corrcoef(true_labels, predictions)\n",
        "\n",
        "# Print metrics\n",
        "print(f'Accuracy: {accuracy}')\n",
        "print(f'Precision: {precision}')\n",
        "print(f'Recall: {recall}')\n",
        "print(f'F1 Score: {f1}')\n",
        "print(f'MCC: {mcc}')"
      ],
      "metadata": {
        "colab": {
          "base_uri": "https://localhost:8080/"
        },
        "id": "QjwyrLwUD12n",
        "outputId": "9c5391ca-4a12-42ec-9532-cea40b970b02"
      },
      "execution_count": null,
      "outputs": [
        {
          "output_type": "stream",
          "name": "stdout",
          "text": [
            "Accuracy: 0.8945325683428957\n",
            "Precision: 0.8990861717238425\n",
            "Recall: 0.8945325683428957\n",
            "F1 Score: 0.8960604826127412\n",
            "MCC: 0.7422376321991807\n"
          ]
        }
      ]
    },
    {
      "cell_type": "markdown",
      "source": [
        "Overall Evaluation Result:\n",
        "\n",
        "Very high accuracy, with overall reliability in predictions. Precision shows a high likelihood that positive predictions are correct. Recall is slightly lower, showing there is room for improvement in identifying all positives. F1 score shows a good balance between the two, and the MCC of 0.74 shows a strong correlation between observed and predicted classifications, even despite the imbalance."
      ],
      "metadata": {
        "id": "eAUwaXwwIt6U"
      }
    }
  ]
}